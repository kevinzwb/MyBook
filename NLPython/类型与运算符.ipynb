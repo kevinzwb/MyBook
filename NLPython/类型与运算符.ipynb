{
 "cells": [
  {
   "cell_type": "markdown",
   "metadata": {},
   "source": [
    "程序等于算法加数据结构。一门程序设计语言提供的数据类型，运算符，程序代码封装方式等会影响算法与数据结构的实现过程。"
   ]
  },
  {
   "cell_type": "markdown",
   "metadata": {},
   "source": [
    "## 内建类型\n",
    "\n",
    "### 数值类型\n",
    "\n",
    "在Python中，虽然所有的数据都是对象，但我们可以使用直接表示法来编写数值。\n",
    "\n",
    "#### 整数类型\n",
    "默认是十进制。二进制格式前缀“0b”，八进制格式前缀“0o”,十六进制格式前缀“0x”. 整数的类型(无论多少进制)是int."
   ]
  },
  {
   "cell_type": "code",
   "execution_count": 15,
   "metadata": {},
   "outputs": [
    {
     "name": "stdout",
     "output_type": "stream",
     "text": [
      "10 10 10 10\n",
      "<class 'int'> <class 'int'> <class 'int'> <class 'int'>\n"
     ]
    }
   ],
   "source": [
    "# 示例\n",
    "print(10,0b1010,0o12,0xA)\n",
    "print(type(10),type(0b1010),type(0o12),type(0xA))"
   ]
  },
  {
   "cell_type": "markdown",
   "metadata": {
    "collapsed": true
   },
   "source": [
    "使用int()方法可以将其他类型的数值转换成整数.使用oct(),hex()可以讲十进制整数转换成八进制,十六进制表示."
   ]
  },
  {
   "cell_type": "code",
   "execution_count": 16,
   "metadata": {},
   "outputs": [
    {
     "data": {
      "text/plain": [
       "(10, 3, 1, '0o12', '0xa')"
      ]
     },
     "execution_count": 16,
     "metadata": {},
     "output_type": "execute_result"
    }
   ],
   "source": [
    "int('10'),int(3.14),int(True),oct(10),hex(10)"
   ]
  },
  {
   "cell_type": "markdown",
   "metadata": {},
   "source": [
    "#### 浮点数类型\n",
    "float类型. "
   ]
  },
  {
   "cell_type": "code",
   "execution_count": 22,
   "metadata": {},
   "outputs": [
    {
     "name": "stdout",
     "output_type": "stream",
     "text": [
      "<class 'float'> 3.14e-10 1.414\n",
      "3\n"
     ]
    }
   ],
   "source": [
    "print(type(3.14),3.14e-10,float(1.414))\n",
    "\n",
    "#注意:如果有个字符串是‘3.14’,想要获取整数部分并解析为int,直接使用int()会出现ValueError错误.\n",
    "#要先使用float()解析为float(),接着再用int()获取int整数部分\n",
    "print(int(float('3.14')))"
   ]
  },
  {
   "cell_type": "markdown",
   "metadata": {},
   "source": [
    "#### 布尔类型\n",
    "Bool类型只有两个,True和False. 使用bool()可以将0转换为False,非0值转换为True.\n",
    "\n",
    "#### 复数类型\n",
    "complex类,格式:a+bj. Python支持对复数的直接运算."
   ]
  },
  {
   "cell_type": "markdown",
   "metadata": {},
   "source": [
    "### 字符串类型\n",
    "用‘ ’,“ ”表示,类型是str. 要注意转义符号的使用.通常使用‘ ’."
   ]
  },
  {
   "cell_type": "code",
   "execution_count": 37,
   "metadata": {},
   "outputs": [
    {
     "name": "stdout",
     "output_type": "stream",
     "text": [
      "\\t \\t\n",
      "c:\todo c:\\todo c:\\todo\n",
      "3.14\n",
      "27979\n",
      "测\n"
     ]
    }
   ],
   "source": [
    "# 转义符号使用起来并不方便,可以使用原始字符串来表示.\n",
    "print('\\\\t',r'\\t')\n",
    "print('c:\\todo','c:\\\\todo',r'c:\\todo')\n",
    "\n",
    "# 可以使用str()将数值转换成字符串\n",
    "print(str(3.14))\n",
    "\n",
    "# 使用ord()查询某个字符的数字码\n",
    "print(ord('测'))\n",
    "\n",
    "# 使用chr()查询数字码对应的字符\n",
    "print(chr(27979))"
   ]
  },
  {
   "cell_type": "markdown",
   "metadata": {},
   "source": [
    "#### 字符串排版\n",
    "Python有内置的print()函数作为输出,拥有基本的排版参数.对于更高级的排版要求,必须先对字符串进行排版,然后将排版后的结果移交print()显示."
   ]
  },
  {
   "cell_type": "code",
   "execution_count": 53,
   "metadata": {},
   "outputs": [
    {
     "name": "stdout",
     "output_type": "stream",
     "text": [
      "Hello Justin\n",
      "Hello Justin\n",
      "Hello,Justin\n",
      "10除以3是3.3333333333333335\n",
      "10除以3是3.3333333333333335\n",
      "10除以3是3.3333333333333335\n"
     ]
    }
   ],
   "source": [
    "# 调用print()时,以逗号来分隔多个字符串\n",
    "name = 'Justin'\n",
    "print('Hello',name)\n",
    "\n",
    "# print()函数显示默认换行,可以通过end参数,进行调节\n",
    "print('Hello',end = ' ')\n",
    "print(name)\n",
    "\n",
    "# print()接受多个字符串时,默认分隔符是一个空格符,可以通过sep参数进行调节\n",
    "print('Hello',name,sep = ',')\n",
    "\n",
    "# 字符串格式化format()\n",
    "# 默认版\n",
    "print('{}除以{}是{}'.format(10,3,10/3))    \n",
    "# 索引版\n",
    "print('{2}除以{1}是{0}'.format(10/3,3,10))    \n",
    "# 参数版\n",
    "print('{n2}除以{n1}是{result}'.format(result = 10/3, n1 = 3,n2 = 10))   \n"
   ]
  },
  {
   "cell_type": "markdown",
   "metadata": {},
   "source": [
    "### 群集类型\n",
    "在编写程序的过程中,大量的数据会被生成.面对不同的任务需求,不同的数据结构被设计出来来管理数据.\n",
    "Python自身配备多种强大的群集类型:\n",
    "- 列表list: 有序,具备索引,内容和长度可以变动\n",
    "- 集合set: 元素不重复\n",
    "- 字典dict: 储存两两对应的键和值\n",
    "- 元组tuple:内容不可改动的列表"
   ]
  },
  {
   "cell_type": "code",
   "execution_count": 56,
   "metadata": {},
   "outputs": [
    {
     "data": {
      "text/plain": [
       "True"
      ]
     },
     "execution_count": 56,
     "metadata": {},
     "output_type": "execute_result"
    }
   ],
   "source": [
    "# 列表List的基本操作\n",
    "# 创建\n",
    "numbers = [1,2,3]\n",
    "# 添加\n",
    "numbers.append(4)\n",
    "# 查询\n",
    "numbers[1]\n",
    "# 赋值\n",
    "numbers[3] = 0\n",
    "# 移除\n",
    "numbers.remove(0) #指定元素值\n",
    "del numbers[0]    #指定索引位置\n",
    "# 判断元素是否存在\n",
    "2 in numbers"
   ]
  },
  {
   "cell_type": "code",
   "execution_count": 59,
   "metadata": {},
   "outputs": [
    {
     "data": {
      "text/plain": [
       "{1, 2, 3, 4, 5}"
      ]
     },
     "execution_count": 59,
     "metadata": {},
     "output_type": "execute_result"
    }
   ],
   "source": [
    "# 集合set的基本操作\n",
    "# 创建\n",
    "users = set()\n",
    "# 添加\n",
    "users.add('catepillar')\n",
    "users.add('Justin')\n",
    "# 移除\n",
    "users.remove('catepillar')\n",
    "# 判断\n",
    "'catepillar' in users\n",
    "# 类型转换\n",
    "set([1,1,2,3,4,5,5,5])"
   ]
  },
  {
   "cell_type": "code",
   "execution_count": 64,
   "metadata": {},
   "outputs": [
    {
     "data": {
      "text/plain": [
       "[123456, 970221]"
      ]
     },
     "execution_count": 64,
     "metadata": {},
     "output_type": "execute_result"
    }
   ],
   "source": [
    "# 字典dict的基本操作\n",
    "# 创建\n",
    "passwords = {'Justin' : 123456, 'caterpillar' : 933933}\n",
    "# 查询\n",
    "passwords['Justin']\n",
    "passwords['caterpillar']\n",
    "# 添加\n",
    "passwords['Irene'] = 970221\n",
    "# 移除\n",
    "del passwords['caterpillar']\n",
    "# 判断元素是否存在\n",
    "'Justin' in passwords\n",
    "# 查询\n",
    "passwords.get('Monica',\"None\")\n",
    "# 提取内容\n",
    "list(passwords.items())\n",
    "list(passwords.keys())\n",
    "list(passwords.values())"
   ]
  },
  {
   "cell_type": "code",
   "execution_count": 73,
   "metadata": {},
   "outputs": [],
   "source": [
    "# 元组tuple的基本操作\n",
    "# 创建\n",
    "act = 1,\"Justin\",True,\n",
    "type(act)\n",
    "\n",
    "# 元素拆解\n",
    "id,name,verified = act\n",
    "id,name,verified\n",
    "a,*b = {1,2,3,4,5}\n",
    "a,*b,c = {1,2,3,4,5}"
   ]
  },
  {
   "cell_type": "code",
   "execution_count": 74,
   "metadata": {
    "collapsed": true
   },
   "outputs": [],
   "source": [
    "## 变量与运算符"
   ]
  },
  {
   "cell_type": "code",
   "execution_count": null,
   "metadata": {
    "collapsed": true
   },
   "outputs": [],
   "source": []
  }
 ],
 "metadata": {
  "kernelspec": {
   "display_name": "Python 3",
   "language": "python",
   "name": "python3"
  },
  "language_info": {
   "codemirror_mode": {
    "name": "ipython",
    "version": 3
   },
   "file_extension": ".py",
   "mimetype": "text/x-python",
   "name": "python",
   "nbconvert_exporter": "python",
   "pygments_lexer": "ipython3",
   "version": "3.6.0"
  }
 },
 "nbformat": 4,
 "nbformat_minor": 2
}
